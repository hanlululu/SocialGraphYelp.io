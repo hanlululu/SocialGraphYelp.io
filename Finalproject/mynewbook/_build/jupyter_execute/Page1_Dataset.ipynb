{
 "cells": [
  {
   "cell_type": "code",
   "execution_count": 1,
   "metadata": {
    "tags": [
     "remove-input"
    ]
   },
   "outputs": [],
   "source": [
    "# Basic libraries\n",
    "import numpy as np\n",
    "import pandas as pd\n",
    "import json\n",
    "import matplotlib.pyplot as plt\n",
    "import seaborn as sns\n",
    "import math\n",
    "import time\n",
    "import itertools\n",
    "\n",
    "# Network libraries\n",
    "import networkx as nx\n",
    "from fa2 import ForceAtlas2 as FA2\n",
    "import community\n",
    "\n",
    "# NLP libraries\n",
    "import re\n",
    "import string\n",
    "import nltk\n",
    "from nltk.corpus import stopwords\n",
    "from nltk import word_tokenize\n",
    "from nltk.stem.porter import PorterStemmer\n",
    "from nltk.probability import FreqDist\n",
    "from wordcloud import WordCloud, ImageColorGenerator\n",
    "\n",
    "# Display libraries\n",
    "from IPython.display import display\n",
    "from IPython.core.display import display as disp, HTML\n",
    "from ipywidgets import widgets, interact, interactive, fixed, interact_manual\n",
    "import imageio\n",
    "\n",
    "from plotly import __version__\n",
    "import plotly.io as pio\n",
    "import plotly.express as px\n",
    "import plotly.figure_factory as ff\n",
    "import chart_studio.plotly as py\n",
    "import plotly.offline\n",
    "sns.set()\n",
    "\n",
    "pio.renderers.default = 'notebook'"
   ]
  },
  {
   "cell_type": "markdown",
   "metadata": {},
   "source": [
    "# The yelp dataset "
   ]
  },
  {
   "cell_type": "markdown",
   "metadata": {},
   "source": [
    "The original dataset that we have selected to analyse this problem is the [Yelp dataset](https://www.yelp.com/dataset). This dataset contains a large subset of Yelp's businesses, reviews, check-ins and user-related public anonymous data. It was originally created for the Kaggle _Yelp Dataset Challenge_ which encouraged academics to conduct research or analysis on\n",
    "the company's subset of data and show their discoveries to the world. \n",
    "\n",
    "The original __Yelp Academic Dataset__ contains information about 1.637.138 reviews collected from 192.609 businesses across 10 metropolitan areas in multiple countries of the world. Since this dataset is extremely large to work with (containing __10+ GB of data__), we have subsetted the data further into __one geographical area of interest: Las Vegas, US__, and __one business category: Hotels__. \n",
    "\n",
    "*Here we present the filtered dataframes for hotels and their reviews*\n",
    "\n",
    "---"
   ]
  },
  {
   "cell_type": "markdown",
   "metadata": {},
   "source": [
    "## The Hotels Dataframe"
   ]
  },
  {
   "cell_type": "markdown",
   "metadata": {},
   "source": [
    "There are in total **438 hotels** identified by their unique business ids. The name, address, city, state, postal_code, latitude, longitude have been collected. The average stars of the hotels can be seen in the \"stars\" column, right next to the review_counts. "
   ]
  },
  {
   "cell_type": "markdown",
   "metadata": {
    "tags": [
     "remove-input"
    ]
   },
   "source": [
    "business_df = pd.read_csv('./data/las_vegas_all_business.csv')\n",
    "review_df = pd.read_csv('./data/las_vegas_all_reviews.csv')\n",
    "keywords = pd.read_csv('./data/las_vegas_business_keywords.csv')"
   ]
  },
  {
   "cell_type": "code",
   "execution_count": 2,
   "metadata": {
    "scrolled": false,
    "tags": [
     "remove-input"
    ]
   },
   "outputs": [
    {
     "ename": "NameError",
     "evalue": "name 'business_df' is not defined",
     "output_type": "error",
     "traceback": [
      "\u001b[1;31m---------------------------------------------------------------------------\u001b[0m",
      "\u001b[1;31mNameError\u001b[0m                                 Traceback (most recent call last)",
      "\u001b[1;32m<ipython-input-2-491a7e15ea15>\u001b[0m in \u001b[0;36m<module>\u001b[1;34m\u001b[0m\n\u001b[0;32m      2\u001b[0m \u001b[0mwarnings\u001b[0m\u001b[1;33m.\u001b[0m\u001b[0mfilterwarnings\u001b[0m\u001b[1;33m(\u001b[0m\u001b[1;34m'ignore'\u001b[0m\u001b[1;33m)\u001b[0m\u001b[1;33m\u001b[0m\u001b[1;33m\u001b[0m\u001b[0m\n\u001b[0;32m      3\u001b[0m \u001b[1;31m# Filter business_id according to the category\u001b[0m\u001b[1;33m\u001b[0m\u001b[1;33m\u001b[0m\u001b[1;33m\u001b[0m\u001b[0m\n\u001b[1;32m----> 4\u001b[1;33m \u001b[0mfilter_business_id\u001b[0m \u001b[1;33m=\u001b[0m \u001b[0mbusiness_df\u001b[0m\u001b[1;33m[\u001b[0m\u001b[0mbusiness_df\u001b[0m\u001b[1;33m.\u001b[0m\u001b[0mcategories\u001b[0m\u001b[1;33m.\u001b[0m\u001b[0mstr\u001b[0m\u001b[1;33m.\u001b[0m\u001b[0mcontains\u001b[0m\u001b[1;33m(\u001b[0m\u001b[1;34mr\"(Hotels, )|(, Hotels$)\"\u001b[0m\u001b[1;33m,\u001b[0m \u001b[0mregex\u001b[0m \u001b[1;33m=\u001b[0m \u001b[1;32mTrue\u001b[0m\u001b[1;33m)\u001b[0m\u001b[1;33m==\u001b[0m\u001b[1;32mTrue\u001b[0m\u001b[1;33m]\u001b[0m\u001b[1;33m.\u001b[0m\u001b[0mbusiness_id\u001b[0m\u001b[1;33m\u001b[0m\u001b[1;33m\u001b[0m\u001b[0m\n\u001b[0m\u001b[0;32m      5\u001b[0m \u001b[1;31m# Filter businesses\u001b[0m\u001b[1;33m\u001b[0m\u001b[1;33m\u001b[0m\u001b[1;33m\u001b[0m\u001b[0m\n\u001b[0;32m      6\u001b[0m \u001b[0mbusiness_df\u001b[0m \u001b[1;33m=\u001b[0m \u001b[0mbusiness_df\u001b[0m\u001b[1;33m[\u001b[0m\u001b[0mbusiness_df\u001b[0m\u001b[1;33m.\u001b[0m\u001b[0mbusiness_id\u001b[0m\u001b[1;33m.\u001b[0m\u001b[0misin\u001b[0m\u001b[1;33m(\u001b[0m\u001b[0mfilter_business_id\u001b[0m\u001b[1;33m)\u001b[0m\u001b[1;33m]\u001b[0m\u001b[1;33m.\u001b[0m\u001b[0mreset_index\u001b[0m\u001b[1;33m(\u001b[0m\u001b[1;33m)\u001b[0m\u001b[1;33m.\u001b[0m\u001b[0mdrop\u001b[0m\u001b[1;33m(\u001b[0m\u001b[1;34m'index'\u001b[0m\u001b[1;33m,\u001b[0m \u001b[0maxis\u001b[0m \u001b[1;33m=\u001b[0m \u001b[1;36m1\u001b[0m\u001b[1;33m)\u001b[0m\u001b[1;33m.\u001b[0m\u001b[0mrename\u001b[0m\u001b[1;33m(\u001b[0m\u001b[1;33m{\u001b[0m\u001b[1;34m'stars'\u001b[0m\u001b[1;33m:\u001b[0m \u001b[1;34m'stars_business'\u001b[0m\u001b[1;33m}\u001b[0m\u001b[1;33m)\u001b[0m\u001b[1;33m\u001b[0m\u001b[1;33m\u001b[0m\u001b[0m\n",
      "\u001b[1;31mNameError\u001b[0m: name 'business_df' is not defined"
     ]
    }
   ],
   "source": [
    "import warnings\n",
    "warnings.filterwarnings('ignore')\n",
    "# Filter business_id according to the category\n",
    "filter_business_id = business_df[business_df.categories.str.contains(r\"(Hotels, )|(, Hotels$)\", regex = True)==True].business_id\n",
    "# Filter businesses\n",
    "business_df = business_df[business_df.business_id.isin(filter_business_id)].reset_index().drop('index', axis = 1).rename({'stars': 'stars_business'})\n",
    "# Filter reviews based on business_id\n",
    "review_df = review_df[review_df.business_id.isin(filter_business_id)].reset_index().drop('index', axis = 1).rename({'stars': 'stars_review'})\n",
    "\n",
    "#columns = ['business_id', 'name', 'address', 'city', 'state', 'postal_code',\n",
    "       #'latitude', 'longitude', 'stars', 'review_count', 'is_open',\n",
    "       #'attributes', 'categories', 'hours']\n",
    "#@interact\n",
    "#def show_dataframe(column1=columns, column2 = columns, column3 = columns, column4 = columns):\n",
    "    \n",
    "    #return business_df[[column1]+[column2]+[column3]+[column4]]\n",
    "\n",
    "business_df"
   ]
  },
  {
   "cell_type": "markdown",
   "metadata": {},
   "source": [
    "## The Reviews Dataframe"
   ]
  },
  {
   "cell_type": "markdown",
   "metadata": {},
   "source": [
    "There are in total **172159 reviews** stored in the \"text\" column and the dates of reviews given stored in the \"date\" column, together with the ratings the users gave shown in the \"stars\" column. The usefulness, funiness, and coolness of the reviews are also been rated from a scale of 0 to 5. Moreover, the review, user and business ids have been collected. "
   ]
  },
  {
   "cell_type": "code",
   "execution_count": 52,
   "metadata": {
    "tags": [
     "remove-input"
    ]
   },
   "outputs": [
    {
     "data": {
      "text/html": [
       "<div>\n",
       "<style scoped>\n",
       "    .dataframe tbody tr th:only-of-type {\n",
       "        vertical-align: middle;\n",
       "    }\n",
       "\n",
       "    .dataframe tbody tr th {\n",
       "        vertical-align: top;\n",
       "    }\n",
       "\n",
       "    .dataframe thead th {\n",
       "        text-align: right;\n",
       "    }\n",
       "</style>\n",
       "<table border=\"1\" class=\"dataframe\">\n",
       "  <thead>\n",
       "    <tr style=\"text-align: right;\">\n",
       "      <th></th>\n",
       "      <th>review_id</th>\n",
       "      <th>user_id</th>\n",
       "      <th>business_id</th>\n",
       "      <th>stars</th>\n",
       "      <th>useful</th>\n",
       "      <th>funny</th>\n",
       "      <th>cool</th>\n",
       "      <th>text</th>\n",
       "      <th>date</th>\n",
       "    </tr>\n",
       "  </thead>\n",
       "  <tbody>\n",
       "    <tr>\n",
       "      <th>0</th>\n",
       "      <td>NHQWhZve7UEaGLt7IwAyDw</td>\n",
       "      <td>H3wPBzQCKCKiHcV7GZK4kg</td>\n",
       "      <td>LkMtMHVetws5_7QfRjPtlg</td>\n",
       "      <td>2.0</td>\n",
       "      <td>5</td>\n",
       "      <td>3</td>\n",
       "      <td>4</td>\n",
       "      <td>This actually used to be one of my favorite ho...</td>\n",
       "      <td>2011-01-09 00:09:50</td>\n",
       "    </tr>\n",
       "    <tr>\n",
       "      <th>1</th>\n",
       "      <td>TkcxD1A4N_9kRZwGhUjDKA</td>\n",
       "      <td>bgG0jJyUXta_kczGrQW2Rw</td>\n",
       "      <td>7EZ4Eu7YJ1ltRCC5jXFJrQ</td>\n",
       "      <td>1.0</td>\n",
       "      <td>1</td>\n",
       "      <td>0</td>\n",
       "      <td>0</td>\n",
       "      <td>There wasn't one specific thing that made this...</td>\n",
       "      <td>2013-04-10 16:19:12</td>\n",
       "    </tr>\n",
       "    <tr>\n",
       "      <th>2</th>\n",
       "      <td>vPDLvkNLtyiBTRbt-wIeLw</td>\n",
       "      <td>QIy3iLXjBUBqRzwd2lnWGQ</td>\n",
       "      <td>_ZfjpSEO5ntk-1hbnwCR4g</td>\n",
       "      <td>3.0</td>\n",
       "      <td>5</td>\n",
       "      <td>1</td>\n",
       "      <td>4</td>\n",
       "      <td>I stayed here back in April. Friday-Sunday. It...</td>\n",
       "      <td>2012-08-15 01:33:11</td>\n",
       "    </tr>\n",
       "    <tr>\n",
       "      <th>3</th>\n",
       "      <td>CbwmSDCidwUHXRgjaEYJiA</td>\n",
       "      <td>liJS3rpRalcZM4G-uHZLjw</td>\n",
       "      <td>bsrj9_hFAql3dlSf244zpg</td>\n",
       "      <td>2.0</td>\n",
       "      <td>0</td>\n",
       "      <td>1</td>\n",
       "      <td>0</td>\n",
       "      <td>I would have given this place 1 star if not fo...</td>\n",
       "      <td>2012-05-28 19:53:06</td>\n",
       "    </tr>\n",
       "    <tr>\n",
       "      <th>4</th>\n",
       "      <td>H-BobmvT1h_4M69SVnvjEw</td>\n",
       "      <td>fmhvtUuQoFTLDH1NRIRNQg</td>\n",
       "      <td>W8-Bsk_hHg5pxbt4EhmPWQ</td>\n",
       "      <td>4.0</td>\n",
       "      <td>0</td>\n",
       "      <td>0</td>\n",
       "      <td>0</td>\n",
       "      <td>Spent only one night here and the main reason ...</td>\n",
       "      <td>2016-01-17 19:42:47</td>\n",
       "    </tr>\n",
       "    <tr>\n",
       "      <th>...</th>\n",
       "      <td>...</td>\n",
       "      <td>...</td>\n",
       "      <td>...</td>\n",
       "      <td>...</td>\n",
       "      <td>...</td>\n",
       "      <td>...</td>\n",
       "      <td>...</td>\n",
       "      <td>...</td>\n",
       "      <td>...</td>\n",
       "    </tr>\n",
       "    <tr>\n",
       "      <th>172154</th>\n",
       "      <td>N5f9aP2kvhlcv_J1KQm8Bw</td>\n",
       "      <td>Y5QquLnjVLvxZLdOuyI2sQ</td>\n",
       "      <td>El4FC8jcawUVgw_0EIcbaQ</td>\n",
       "      <td>1.0</td>\n",
       "      <td>0</td>\n",
       "      <td>0</td>\n",
       "      <td>0</td>\n",
       "      <td>I'm giving them a one because they deliver the...</td>\n",
       "      <td>2019-12-10 16:14:27</td>\n",
       "    </tr>\n",
       "    <tr>\n",
       "      <th>172155</th>\n",
       "      <td>KyhO7OlnxgehmUHwkKa2ew</td>\n",
       "      <td>Zvt8EAzDGM1BwwgfRNwtLQ</td>\n",
       "      <td>El4FC8jcawUVgw_0EIcbaQ</td>\n",
       "      <td>1.0</td>\n",
       "      <td>1</td>\n",
       "      <td>0</td>\n",
       "      <td>0</td>\n",
       "      <td>Plenty of better hotels the chose when coming ...</td>\n",
       "      <td>2019-12-08 18:39:15</td>\n",
       "    </tr>\n",
       "    <tr>\n",
       "      <th>172156</th>\n",
       "      <td>gV3OIJrXyklRPpeaEQYeEw</td>\n",
       "      <td>janMsyYEYQV5iNohlEIBlg</td>\n",
       "      <td>RCdWzJI0acxponN70QDRcw</td>\n",
       "      <td>4.0</td>\n",
       "      <td>1</td>\n",
       "      <td>0</td>\n",
       "      <td>0</td>\n",
       "      <td>We chose this hotel because it's pet friendly ...</td>\n",
       "      <td>2019-12-12 07:07:55</td>\n",
       "    </tr>\n",
       "    <tr>\n",
       "      <th>172157</th>\n",
       "      <td>iRfzGTDOacY_OBD02gvKJg</td>\n",
       "      <td>GLpxKjxA48jSmK9pH9jr3A</td>\n",
       "      <td>RCdWzJI0acxponN70QDRcw</td>\n",
       "      <td>5.0</td>\n",
       "      <td>0</td>\n",
       "      <td>0</td>\n",
       "      <td>0</td>\n",
       "      <td>I have stayed at Delano multiple times, it is ...</td>\n",
       "      <td>2019-12-11 21:58:32</td>\n",
       "    </tr>\n",
       "    <tr>\n",
       "      <th>172158</th>\n",
       "      <td>bpsuVerJGJq4dW6-LmCjEQ</td>\n",
       "      <td>7ckcAxDDGoHVwU-U7vaczQ</td>\n",
       "      <td>RCdWzJI0acxponN70QDRcw</td>\n",
       "      <td>2.0</td>\n",
       "      <td>0</td>\n",
       "      <td>0</td>\n",
       "      <td>0</td>\n",
       "      <td>This is probably the worst checkin experience ...</td>\n",
       "      <td>2019-11-02 04:48:55</td>\n",
       "    </tr>\n",
       "  </tbody>\n",
       "</table>\n",
       "<p>172159 rows × 9 columns</p>\n",
       "</div>"
      ],
      "text/plain": [
       "                     review_id                 user_id  \\\n",
       "0       NHQWhZve7UEaGLt7IwAyDw  H3wPBzQCKCKiHcV7GZK4kg   \n",
       "1       TkcxD1A4N_9kRZwGhUjDKA  bgG0jJyUXta_kczGrQW2Rw   \n",
       "2       vPDLvkNLtyiBTRbt-wIeLw  QIy3iLXjBUBqRzwd2lnWGQ   \n",
       "3       CbwmSDCidwUHXRgjaEYJiA  liJS3rpRalcZM4G-uHZLjw   \n",
       "4       H-BobmvT1h_4M69SVnvjEw  fmhvtUuQoFTLDH1NRIRNQg   \n",
       "...                        ...                     ...   \n",
       "172154  N5f9aP2kvhlcv_J1KQm8Bw  Y5QquLnjVLvxZLdOuyI2sQ   \n",
       "172155  KyhO7OlnxgehmUHwkKa2ew  Zvt8EAzDGM1BwwgfRNwtLQ   \n",
       "172156  gV3OIJrXyklRPpeaEQYeEw  janMsyYEYQV5iNohlEIBlg   \n",
       "172157  iRfzGTDOacY_OBD02gvKJg  GLpxKjxA48jSmK9pH9jr3A   \n",
       "172158  bpsuVerJGJq4dW6-LmCjEQ  7ckcAxDDGoHVwU-U7vaczQ   \n",
       "\n",
       "                   business_id  stars  useful  funny  cool  \\\n",
       "0       LkMtMHVetws5_7QfRjPtlg    2.0       5      3     4   \n",
       "1       7EZ4Eu7YJ1ltRCC5jXFJrQ    1.0       1      0     0   \n",
       "2       _ZfjpSEO5ntk-1hbnwCR4g    3.0       5      1     4   \n",
       "3       bsrj9_hFAql3dlSf244zpg    2.0       0      1     0   \n",
       "4       W8-Bsk_hHg5pxbt4EhmPWQ    4.0       0      0     0   \n",
       "...                        ...    ...     ...    ...   ...   \n",
       "172154  El4FC8jcawUVgw_0EIcbaQ    1.0       0      0     0   \n",
       "172155  El4FC8jcawUVgw_0EIcbaQ    1.0       1      0     0   \n",
       "172156  RCdWzJI0acxponN70QDRcw    4.0       1      0     0   \n",
       "172157  RCdWzJI0acxponN70QDRcw    5.0       0      0     0   \n",
       "172158  RCdWzJI0acxponN70QDRcw    2.0       0      0     0   \n",
       "\n",
       "                                                     text                 date  \n",
       "0       This actually used to be one of my favorite ho...  2011-01-09 00:09:50  \n",
       "1       There wasn't one specific thing that made this...  2013-04-10 16:19:12  \n",
       "2       I stayed here back in April. Friday-Sunday. It...  2012-08-15 01:33:11  \n",
       "3       I would have given this place 1 star if not fo...  2012-05-28 19:53:06  \n",
       "4       Spent only one night here and the main reason ...  2016-01-17 19:42:47  \n",
       "...                                                   ...                  ...  \n",
       "172154  I'm giving them a one because they deliver the...  2019-12-10 16:14:27  \n",
       "172155  Plenty of better hotels the chose when coming ...  2019-12-08 18:39:15  \n",
       "172156  We chose this hotel because it's pet friendly ...  2019-12-12 07:07:55  \n",
       "172157  I have stayed at Delano multiple times, it is ...  2019-12-11 21:58:32  \n",
       "172158  This is probably the worst checkin experience ...  2019-11-02 04:48:55  \n",
       "\n",
       "[172159 rows x 9 columns]"
      ]
     },
     "execution_count": 52,
     "metadata": {},
     "output_type": "execute_result"
    }
   ],
   "source": [
    "#columns_rev = ['review_id', 'user_id', 'business_id', 'stars', 'useful', 'funny',\n",
    "       #'cool', 'text', 'date']\n",
    "#@interact\n",
    "#def show_dataframe(column1=columns_rev, column2 = columns_rev, column3 = columns_rev, column4 = columns_rev):\n",
    "    \n",
    "    #return review_df[[column1]+[column2]+[column3]+[column4]]\n",
    "review_df"
   ]
  }
 ],
 "metadata": {
  "celltoolbar": "Edit Metadata",
  "kernelspec": {
   "display_name": "Python 3",
   "language": "python",
   "name": "python3"
  },
  "language_info": {
   "codemirror_mode": {
    "name": "ipython",
    "version": 3
   },
   "file_extension": ".py",
   "mimetype": "text/x-python",
   "name": "python",
   "nbconvert_exporter": "python",
   "pygments_lexer": "ipython3",
   "version": "3.7.6"
  }
 },
 "nbformat": 4,
 "nbformat_minor": 4
}