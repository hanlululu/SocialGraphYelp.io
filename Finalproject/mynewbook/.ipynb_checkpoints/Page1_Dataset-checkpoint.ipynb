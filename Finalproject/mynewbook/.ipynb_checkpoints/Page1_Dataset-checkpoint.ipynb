{
 "cells": [
  {
   "cell_type": "code",
   "execution_count": 1,
   "metadata": {
    "tags": [
     "remove-input"
    ]
   },
   "outputs": [],
   "source": [
    "# Basic libraries\n",
    "import numpy as np\n",
    "import pandas as pd\n",
    "import json\n",
    "import matplotlib.pyplot as plt\n",
    "import seaborn as sns\n",
    "import math\n",
    "import time\n",
    "import itertools\n",
    "\n",
    "# Network libraries\n",
    "import networkx as nx\n",
    "from fa2 import ForceAtlas2 as FA2\n",
    "import community\n",
    "\n",
    "# NLP libraries\n",
    "import re\n",
    "import string\n",
    "import nltk\n",
    "from nltk.corpus import stopwords\n",
    "from nltk import word_tokenize\n",
    "from nltk.stem.porter import PorterStemmer\n",
    "from nltk.probability import FreqDist\n",
    "from wordcloud import WordCloud, ImageColorGenerator\n",
    "\n",
    "# Display libraries\n",
    "from IPython.display import display\n",
    "from IPython.core.display import display as disp, HTML\n",
    "from ipywidgets import widgets, interact, interactive, fixed, interact_manual\n",
    "import imageio\n",
    "\n",
    "from plotly import __version__\n",
    "import plotly.io as pio\n",
    "import plotly.express as px\n",
    "import plotly.figure_factory as ff\n",
    "import chart_studio.plotly as py\n",
    "import plotly.offline\n",
    "sns.set()\n",
    "\n",
    "pio.renderers.default = 'notebook'"
   ]
  },
  {
   "cell_type": "markdown",
   "metadata": {},
   "source": [
    "# The yelp dataset "
   ]
  },
  {
   "cell_type": "code",
   "execution_count": 2,
   "metadata": {
    "tags": [
     "remove-input"
    ]
   },
   "outputs": [],
   "source": [
    "business_df = pd.read_csv('./data/las_vegas_all_business.csv')\n",
    "review_df = pd.read_csv('./data/las_vegas_all_reviews.csv')\n",
    "keywords = pd.read_csv('./data/las_vegas_business_keywords.csv')"
   ]
  },
  {
   "cell_type": "code",
   "execution_count": 40,
   "metadata": {
    "tags": [
     "remove-input"
    ]
   },
   "outputs": [
    {
     "data": {
      "application/vnd.jupyter.widget-view+json": {
       "model_id": "1a7eb172767f4371b433e82e4a2ec141",
       "version_major": 2,
       "version_minor": 0
      },
      "text/plain": [
       "interactive(children=(Dropdown(description='column1', options=('business_id', 'name', 'address', 'city', 'stat…"
      ]
     },
     "metadata": {},
     "output_type": "display_data"
    }
   ],
   "source": [
    "import warnings\n",
    "warnings.filterwarnings('ignore')\n",
    "# Filter business_id according to the category\n",
    "filter_business_id = business_df[business_df.categories.str.contains(r\"(Hotels, )|(, Hotels$)\", regex = True)==True].business_id\n",
    "# Filter businesses\n",
    "business_df = business_df[business_df.business_id.isin(filter_business_id)].reset_index().drop('index', axis = 1).rename({'stars': 'stars_business'})\n",
    "# Filter reviews based on business_id\n",
    "review_df = review_df[review_df.business_id.isin(filter_business_id)].reset_index().drop('index', axis = 1).rename({'stars': 'stars_review'})\n",
    "\n",
    "columns = ['business_id', 'name', 'address', 'city', 'state', 'postal_code',\n",
    "       'latitude', 'longitude', 'stars', 'review_count', 'is_open',\n",
    "       'attributes', 'categories', 'hours']\n",
    "@interact\n",
    "def show_dataframe(column1=columns, column2 = columns, column3 = columns, column4 = columns):\n",
    "    \n",
    "    return business_df[[column1]+[column2]+[column3]+[column4]]"
   ]
  },
  {
   "cell_type": "code",
   "execution_count": 44,
   "metadata": {
    "tags": [
     "remove-input"
    ]
   },
   "outputs": [
    {
     "data": {
      "application/vnd.jupyter.widget-view+json": {
       "model_id": "ea068aaed6f14d6b8fb1dd2275141eaa",
       "version_major": 2,
       "version_minor": 0
      },
      "text/plain": [
       "interactive(children=(Dropdown(description='column1', options=('review_id', 'user_id', 'business_id', 'stars',…"
      ]
     },
     "metadata": {},
     "output_type": "display_data"
    }
   ],
   "source": [
    "columns_rev = ['review_id', 'user_id', 'business_id', 'stars', 'useful', 'funny',\n",
    "       'cool', 'text', 'date']\n",
    "@interact\n",
    "def show_dataframe(column1=columns_rev, column2 = columns_rev, column3 = columns_rev, column4 = columns_rev):\n",
    "    \n",
    "    return review_df[[column1]+[column2]+[column3]+[column4]]"
   ]
  }
 ],
 "metadata": {
  "celltoolbar": "Edit Metadata",
  "kernelspec": {
   "display_name": "Python 3",
   "language": "python",
   "name": "python3"
  },
  "language_info": {
   "codemirror_mode": {
    "name": "ipython",
    "version": 3
   },
   "file_extension": ".py",
   "mimetype": "text/x-python",
   "name": "python",
   "nbconvert_exporter": "python",
   "pygments_lexer": "ipython3",
   "version": "3.7.6"
  }
 },
 "nbformat": 4,
 "nbformat_minor": 4
}
